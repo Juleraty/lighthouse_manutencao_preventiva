{
 "cells": [
  {
   "cell_type": "markdown",
   "id": "940a267f-a9d5-46d9-970c-56c535385603",
   "metadata": {},
   "source": [
    "## 1 - Instalando e carregando os pacotes"
   ]
  },
  {
   "cell_type": "code",
   "execution_count": 1,
   "id": "25762e88-18cb-43c0-abf4-cc60eae68f87",
   "metadata": {},
   "outputs": [],
   "source": [
    "import numpy as np\n",
    "import pandas as pd\n",
    "from matplotlib import pyplot as plt\n",
    "from sklearn.ensemble import RandomForestClassifier\n",
    "from sklearn.metrics import accuracy_score\n",
    "from sklearn.model_selection import cross_val_score, train_test_split\n",
    "from imblearn.over_sampling import SMOTE"
   ]
  },
  {
   "cell_type": "markdown",
   "id": "e246fba3-593e-4212-be60-28d2ae22ed6a",
   "metadata": {},
   "source": [
    "## 2 - Carregando os Dados"
   ]
  },
  {
   "cell_type": "code",
   "execution_count": 2,
   "id": "84360e35-62c9-4546-bfaa-28f0632b359b",
   "metadata": {},
   "outputs": [],
   "source": [
    "df_train = pd.read_csv('desafio_manutencao_preditiva_treino.csv', sep=';')\n",
    "df_test = pd.read_csv('desafio_manutencao_preditiva_teste.csv', sep=';')"
   ]
  },
  {
   "cell_type": "code",
   "execution_count": 3,
   "id": "47af184c-609f-40a2-ad23-9da5dcac6424",
   "metadata": {},
   "outputs": [
    {
     "data": {
      "text/plain": [
       "(6667, 9)"
      ]
     },
     "execution_count": 3,
     "metadata": {},
     "output_type": "execute_result"
    }
   ],
   "source": [
    "df_train.shape"
   ]
  },
  {
   "cell_type": "code",
   "execution_count": 4,
   "id": "dda773ff-4a95-463d-adfd-4c9871a3236e",
   "metadata": {},
   "outputs": [
    {
     "data": {
      "text/html": [
       "<div>\n",
       "<style scoped>\n",
       "    .dataframe tbody tr th:only-of-type {\n",
       "        vertical-align: middle;\n",
       "    }\n",
       "\n",
       "    .dataframe tbody tr th {\n",
       "        vertical-align: top;\n",
       "    }\n",
       "\n",
       "    .dataframe thead th {\n",
       "        text-align: right;\n",
       "    }\n",
       "</style>\n",
       "<table border=\"1\" class=\"dataframe\">\n",
       "  <thead>\n",
       "    <tr style=\"text-align: right;\">\n",
       "      <th></th>\n",
       "      <th>udi</th>\n",
       "      <th>product_id</th>\n",
       "      <th>type</th>\n",
       "      <th>air_temperature_k</th>\n",
       "      <th>process_temperature_k</th>\n",
       "      <th>rotational_speed_rpm</th>\n",
       "      <th>torque_nm</th>\n",
       "      <th>tool_wear_min</th>\n",
       "      <th>failure_type</th>\n",
       "    </tr>\n",
       "  </thead>\n",
       "  <tbody>\n",
       "    <tr>\n",
       "      <th>0</th>\n",
       "      <td>1</td>\n",
       "      <td>M14860</td>\n",
       "      <td>M</td>\n",
       "      <td>298.1</td>\n",
       "      <td>308.6</td>\n",
       "      <td>1551</td>\n",
       "      <td>42.8</td>\n",
       "      <td>0</td>\n",
       "      <td>No Failure</td>\n",
       "    </tr>\n",
       "    <tr>\n",
       "      <th>1</th>\n",
       "      <td>2</td>\n",
       "      <td>L47181</td>\n",
       "      <td>L</td>\n",
       "      <td>298.2</td>\n",
       "      <td>308.7</td>\n",
       "      <td>1408</td>\n",
       "      <td>46.3</td>\n",
       "      <td>3</td>\n",
       "      <td>No Failure</td>\n",
       "    </tr>\n",
       "    <tr>\n",
       "      <th>2</th>\n",
       "      <td>5</td>\n",
       "      <td>L47184</td>\n",
       "      <td>L</td>\n",
       "      <td>298.2</td>\n",
       "      <td>308.7</td>\n",
       "      <td>1408</td>\n",
       "      <td>40.0</td>\n",
       "      <td>9</td>\n",
       "      <td>No Failure</td>\n",
       "    </tr>\n",
       "    <tr>\n",
       "      <th>3</th>\n",
       "      <td>6</td>\n",
       "      <td>M14865</td>\n",
       "      <td>M</td>\n",
       "      <td>298.1</td>\n",
       "      <td>308.6</td>\n",
       "      <td>1425</td>\n",
       "      <td>41.9</td>\n",
       "      <td>11</td>\n",
       "      <td>No Failure</td>\n",
       "    </tr>\n",
       "    <tr>\n",
       "      <th>4</th>\n",
       "      <td>7</td>\n",
       "      <td>L47186</td>\n",
       "      <td>L</td>\n",
       "      <td>298.1</td>\n",
       "      <td>308.6</td>\n",
       "      <td>1558</td>\n",
       "      <td>42.4</td>\n",
       "      <td>14</td>\n",
       "      <td>No Failure</td>\n",
       "    </tr>\n",
       "  </tbody>\n",
       "</table>\n",
       "</div>"
      ],
      "text/plain": [
       "   udi product_id type  air_temperature_k  process_temperature_k  \\\n",
       "0    1     M14860    M              298.1                  308.6   \n",
       "1    2     L47181    L              298.2                  308.7   \n",
       "2    5     L47184    L              298.2                  308.7   \n",
       "3    6     M14865    M              298.1                  308.6   \n",
       "4    7     L47186    L              298.1                  308.6   \n",
       "\n",
       "   rotational_speed_rpm  torque_nm  tool_wear_min failure_type  \n",
       "0                  1551       42.8              0   No Failure  \n",
       "1                  1408       46.3              3   No Failure  \n",
       "2                  1408       40.0              9   No Failure  \n",
       "3                  1425       41.9             11   No Failure  \n",
       "4                  1558       42.4             14   No Failure  "
      ]
     },
     "execution_count": 4,
     "metadata": {},
     "output_type": "execute_result"
    }
   ],
   "source": [
    "df_train.head()"
   ]
  },
  {
   "cell_type": "markdown",
   "id": "1e9aef31-716b-4789-8839-436b5bece6a0",
   "metadata": {},
   "source": [
    "## 3 - Analise Exploratória"
   ]
  },
  {
   "cell_type": "code",
   "execution_count": 5,
   "id": "9f56a16c-d367-40e8-a417-f78275133a58",
   "metadata": {},
   "outputs": [
    {
     "name": "stdout",
     "output_type": "stream",
     "text": [
      "<class 'pandas.core.frame.DataFrame'>\n",
      "RangeIndex: 6667 entries, 0 to 6666\n",
      "Data columns (total 9 columns):\n",
      " #   Column                 Non-Null Count  Dtype  \n",
      "---  ------                 --------------  -----  \n",
      " 0   udi                    6667 non-null   int64  \n",
      " 1   product_id             6667 non-null   object \n",
      " 2   type                   6667 non-null   object \n",
      " 3   air_temperature_k      6667 non-null   float64\n",
      " 4   process_temperature_k  6667 non-null   float64\n",
      " 5   rotational_speed_rpm   6667 non-null   int64  \n",
      " 6   torque_nm              6667 non-null   float64\n",
      " 7   tool_wear_min          6667 non-null   int64  \n",
      " 8   failure_type           6667 non-null   object \n",
      "dtypes: float64(3), int64(3), object(3)\n",
      "memory usage: 468.9+ KB\n"
     ]
    }
   ],
   "source": [
    "df_train.info()"
   ]
  },
  {
   "cell_type": "code",
   "execution_count": 6,
   "id": "8494a908-ec50-48af-ad5f-d507c9dd085f",
   "metadata": {},
   "outputs": [
    {
     "data": {
      "text/html": [
       "<div>\n",
       "<style scoped>\n",
       "    .dataframe tbody tr th:only-of-type {\n",
       "        vertical-align: middle;\n",
       "    }\n",
       "\n",
       "    .dataframe tbody tr th {\n",
       "        vertical-align: top;\n",
       "    }\n",
       "\n",
       "    .dataframe thead th {\n",
       "        text-align: right;\n",
       "    }\n",
       "</style>\n",
       "<table border=\"1\" class=\"dataframe\">\n",
       "  <thead>\n",
       "    <tr style=\"text-align: right;\">\n",
       "      <th></th>\n",
       "      <th>udi</th>\n",
       "      <th>air_temperature_k</th>\n",
       "      <th>process_temperature_k</th>\n",
       "      <th>rotational_speed_rpm</th>\n",
       "      <th>torque_nm</th>\n",
       "      <th>tool_wear_min</th>\n",
       "    </tr>\n",
       "  </thead>\n",
       "  <tbody>\n",
       "    <tr>\n",
       "      <th>count</th>\n",
       "      <td>6667.000000</td>\n",
       "      <td>6667.000000</td>\n",
       "      <td>6667.000000</td>\n",
       "      <td>6667.000000</td>\n",
       "      <td>6667.000000</td>\n",
       "      <td>6667.000000</td>\n",
       "    </tr>\n",
       "    <tr>\n",
       "      <th>mean</th>\n",
       "      <td>4994.589921</td>\n",
       "      <td>299.992515</td>\n",
       "      <td>309.992620</td>\n",
       "      <td>1537.419529</td>\n",
       "      <td>40.058512</td>\n",
       "      <td>108.098095</td>\n",
       "    </tr>\n",
       "    <tr>\n",
       "      <th>std</th>\n",
       "      <td>2896.125718</td>\n",
       "      <td>1.994710</td>\n",
       "      <td>1.488101</td>\n",
       "      <td>177.182908</td>\n",
       "      <td>9.950804</td>\n",
       "      <td>63.359915</td>\n",
       "    </tr>\n",
       "    <tr>\n",
       "      <th>min</th>\n",
       "      <td>1.000000</td>\n",
       "      <td>295.300000</td>\n",
       "      <td>305.700000</td>\n",
       "      <td>1168.000000</td>\n",
       "      <td>3.800000</td>\n",
       "      <td>0.000000</td>\n",
       "    </tr>\n",
       "    <tr>\n",
       "      <th>25%</th>\n",
       "      <td>2496.500000</td>\n",
       "      <td>298.300000</td>\n",
       "      <td>308.800000</td>\n",
       "      <td>1422.500000</td>\n",
       "      <td>33.200000</td>\n",
       "      <td>54.000000</td>\n",
       "    </tr>\n",
       "    <tr>\n",
       "      <th>50%</th>\n",
       "      <td>4983.000000</td>\n",
       "      <td>300.000000</td>\n",
       "      <td>310.000000</td>\n",
       "      <td>1503.000000</td>\n",
       "      <td>40.200000</td>\n",
       "      <td>108.000000</td>\n",
       "    </tr>\n",
       "    <tr>\n",
       "      <th>75%</th>\n",
       "      <td>7510.500000</td>\n",
       "      <td>301.500000</td>\n",
       "      <td>311.100000</td>\n",
       "      <td>1612.000000</td>\n",
       "      <td>46.800000</td>\n",
       "      <td>162.000000</td>\n",
       "    </tr>\n",
       "    <tr>\n",
       "      <th>max</th>\n",
       "      <td>10000.000000</td>\n",
       "      <td>304.500000</td>\n",
       "      <td>313.800000</td>\n",
       "      <td>2886.000000</td>\n",
       "      <td>76.600000</td>\n",
       "      <td>251.000000</td>\n",
       "    </tr>\n",
       "  </tbody>\n",
       "</table>\n",
       "</div>"
      ],
      "text/plain": [
       "                udi  air_temperature_k  process_temperature_k  \\\n",
       "count   6667.000000        6667.000000            6667.000000   \n",
       "mean    4994.589921         299.992515             309.992620   \n",
       "std     2896.125718           1.994710               1.488101   \n",
       "min        1.000000         295.300000             305.700000   \n",
       "25%     2496.500000         298.300000             308.800000   \n",
       "50%     4983.000000         300.000000             310.000000   \n",
       "75%     7510.500000         301.500000             311.100000   \n",
       "max    10000.000000         304.500000             313.800000   \n",
       "\n",
       "       rotational_speed_rpm    torque_nm  tool_wear_min  \n",
       "count           6667.000000  6667.000000    6667.000000  \n",
       "mean            1537.419529    40.058512     108.098095  \n",
       "std              177.182908     9.950804      63.359915  \n",
       "min             1168.000000     3.800000       0.000000  \n",
       "25%             1422.500000    33.200000      54.000000  \n",
       "50%             1503.000000    40.200000     108.000000  \n",
       "75%             1612.000000    46.800000     162.000000  \n",
       "max             2886.000000    76.600000     251.000000  "
      ]
     },
     "execution_count": 6,
     "metadata": {},
     "output_type": "execute_result"
    }
   ],
   "source": [
    "df_train.describe()"
   ]
  },
  {
   "cell_type": "code",
   "execution_count": 7,
   "id": "c44b4ac9-3034-44f7-993a-31648e2878af",
   "metadata": {},
   "outputs": [
    {
     "data": {
      "text/plain": [
       "udi                      0\n",
       "product_id               0\n",
       "type                     0\n",
       "air_temperature_k        0\n",
       "process_temperature_k    0\n",
       "rotational_speed_rpm     0\n",
       "torque_nm                0\n",
       "tool_wear_min            0\n",
       "failure_type             0\n",
       "dtype: int64"
      ]
     },
     "execution_count": 7,
     "metadata": {},
     "output_type": "execute_result"
    }
   ],
   "source": [
    "df_train.isna().sum()"
   ]
  },
  {
   "cell_type": "markdown",
   "id": "6e99ef58-ba8a-4353-b4af-702dfb76a496",
   "metadata": {},
   "source": [
    "## 4 - Excluindo as variaveis categóricas."
   ]
  },
  {
   "cell_type": "code",
   "execution_count": 8,
   "id": "acf26d43-4585-48d3-8935-b259ebc89ed9",
   "metadata": {},
   "outputs": [],
   "source": [
    "df_train = df_train.drop(columns = ['udi', 'product_id', 'type'])\n",
    "df_test = df_test.drop(columns = ['udi', 'product_id', 'type'])"
   ]
  },
  {
   "cell_type": "code",
   "execution_count": 9,
   "id": "2726007b-1bf7-436a-bdb4-accc38599d0a",
   "metadata": {},
   "outputs": [
    {
     "data": {
      "text/html": [
       "<div>\n",
       "<style scoped>\n",
       "    .dataframe tbody tr th:only-of-type {\n",
       "        vertical-align: middle;\n",
       "    }\n",
       "\n",
       "    .dataframe tbody tr th {\n",
       "        vertical-align: top;\n",
       "    }\n",
       "\n",
       "    .dataframe thead th {\n",
       "        text-align: right;\n",
       "    }\n",
       "</style>\n",
       "<table border=\"1\" class=\"dataframe\">\n",
       "  <thead>\n",
       "    <tr style=\"text-align: right;\">\n",
       "      <th></th>\n",
       "      <th>air_temperature_k</th>\n",
       "      <th>process_temperature_k</th>\n",
       "      <th>rotational_speed_rpm</th>\n",
       "      <th>torque_nm</th>\n",
       "      <th>tool_wear_min</th>\n",
       "      <th>failure_type</th>\n",
       "    </tr>\n",
       "  </thead>\n",
       "  <tbody>\n",
       "    <tr>\n",
       "      <th>0</th>\n",
       "      <td>298.1</td>\n",
       "      <td>308.6</td>\n",
       "      <td>1551</td>\n",
       "      <td>42.8</td>\n",
       "      <td>0</td>\n",
       "      <td>No Failure</td>\n",
       "    </tr>\n",
       "    <tr>\n",
       "      <th>1</th>\n",
       "      <td>298.2</td>\n",
       "      <td>308.7</td>\n",
       "      <td>1408</td>\n",
       "      <td>46.3</td>\n",
       "      <td>3</td>\n",
       "      <td>No Failure</td>\n",
       "    </tr>\n",
       "    <tr>\n",
       "      <th>2</th>\n",
       "      <td>298.2</td>\n",
       "      <td>308.7</td>\n",
       "      <td>1408</td>\n",
       "      <td>40.0</td>\n",
       "      <td>9</td>\n",
       "      <td>No Failure</td>\n",
       "    </tr>\n",
       "    <tr>\n",
       "      <th>3</th>\n",
       "      <td>298.1</td>\n",
       "      <td>308.6</td>\n",
       "      <td>1425</td>\n",
       "      <td>41.9</td>\n",
       "      <td>11</td>\n",
       "      <td>No Failure</td>\n",
       "    </tr>\n",
       "    <tr>\n",
       "      <th>4</th>\n",
       "      <td>298.1</td>\n",
       "      <td>308.6</td>\n",
       "      <td>1558</td>\n",
       "      <td>42.4</td>\n",
       "      <td>14</td>\n",
       "      <td>No Failure</td>\n",
       "    </tr>\n",
       "    <tr>\n",
       "      <th>...</th>\n",
       "      <td>...</td>\n",
       "      <td>...</td>\n",
       "      <td>...</td>\n",
       "      <td>...</td>\n",
       "      <td>...</td>\n",
       "      <td>...</td>\n",
       "    </tr>\n",
       "    <tr>\n",
       "      <th>6662</th>\n",
       "      <td>298.8</td>\n",
       "      <td>308.3</td>\n",
       "      <td>1634</td>\n",
       "      <td>27.9</td>\n",
       "      <td>12</td>\n",
       "      <td>No Failure</td>\n",
       "    </tr>\n",
       "    <tr>\n",
       "      <th>6663</th>\n",
       "      <td>298.8</td>\n",
       "      <td>308.4</td>\n",
       "      <td>1604</td>\n",
       "      <td>29.5</td>\n",
       "      <td>14</td>\n",
       "      <td>No Failure</td>\n",
       "    </tr>\n",
       "    <tr>\n",
       "      <th>6664</th>\n",
       "      <td>298.9</td>\n",
       "      <td>308.4</td>\n",
       "      <td>1632</td>\n",
       "      <td>31.8</td>\n",
       "      <td>17</td>\n",
       "      <td>No Failure</td>\n",
       "    </tr>\n",
       "    <tr>\n",
       "      <th>6665</th>\n",
       "      <td>299.0</td>\n",
       "      <td>308.7</td>\n",
       "      <td>1408</td>\n",
       "      <td>48.5</td>\n",
       "      <td>25</td>\n",
       "      <td>No Failure</td>\n",
       "    </tr>\n",
       "    <tr>\n",
       "      <th>6666</th>\n",
       "      <td>299.0</td>\n",
       "      <td>308.7</td>\n",
       "      <td>1500</td>\n",
       "      <td>40.2</td>\n",
       "      <td>30</td>\n",
       "      <td>No Failure</td>\n",
       "    </tr>\n",
       "  </tbody>\n",
       "</table>\n",
       "<p>6667 rows × 6 columns</p>\n",
       "</div>"
      ],
      "text/plain": [
       "      air_temperature_k  process_temperature_k  rotational_speed_rpm  \\\n",
       "0                 298.1                  308.6                  1551   \n",
       "1                 298.2                  308.7                  1408   \n",
       "2                 298.2                  308.7                  1408   \n",
       "3                 298.1                  308.6                  1425   \n",
       "4                 298.1                  308.6                  1558   \n",
       "...                 ...                    ...                   ...   \n",
       "6662              298.8                  308.3                  1634   \n",
       "6663              298.8                  308.4                  1604   \n",
       "6664              298.9                  308.4                  1632   \n",
       "6665              299.0                  308.7                  1408   \n",
       "6666              299.0                  308.7                  1500   \n",
       "\n",
       "      torque_nm  tool_wear_min failure_type  \n",
       "0          42.8              0   No Failure  \n",
       "1          46.3              3   No Failure  \n",
       "2          40.0              9   No Failure  \n",
       "3          41.9             11   No Failure  \n",
       "4          42.4             14   No Failure  \n",
       "...         ...            ...          ...  \n",
       "6662       27.9             12   No Failure  \n",
       "6663       29.5             14   No Failure  \n",
       "6664       31.8             17   No Failure  \n",
       "6665       48.5             25   No Failure  \n",
       "6666       40.2             30   No Failure  \n",
       "\n",
       "[6667 rows x 6 columns]"
      ]
     },
     "execution_count": 9,
     "metadata": {},
     "output_type": "execute_result"
    }
   ],
   "source": [
    "df_train"
   ]
  },
  {
   "cell_type": "markdown",
   "id": "cc0e2180-6460-47d0-b543-7c104a395bb6",
   "metadata": {},
   "source": [
    "## 5 - Distribuição da variável alvo"
   ]
  },
  {
   "cell_type": "code",
   "execution_count": 10,
   "id": "012dd041-472c-4e38-9d28-4720ddc4225e",
   "metadata": {},
   "outputs": [
    {
     "data": {
      "image/png": "[encoded data removed]",
      "text/plain": [
       "<Figure size 720x432 with 1 Axes>"
      ]
     },
     "metadata": {
      "needs_background": "light"
     },
     "output_type": "display_data"
    }
   ],
   "source": [
    "df_train['failure_type'].value_counts().plot(kind='bar', title='Distribuição do failure_type', figsize=(10, 6), rot=0)\n",
    "plt.show()"
   ]
  },
  {
   "cell_type": "markdown",
   "id": "2ed236a2-900a-4417-8ba7-26a4c43d8294",
   "metadata": {},
   "source": [
    "## 6 - Separando os dados"
   ]
  },
  {
   "cell_type": "code",
   "execution_count": 11,
   "id": "f715cd36-3a73-4274-8cbd-6a36cf05ba61",
   "metadata": {},
   "outputs": [],
   "source": [
    "X_train, X_test, y_train, y_test = train_test_split(df_train.drop('failure_type', axis=1), df_train['failure_type'], test_size=0.2, random_state=42)"
   ]
  },
  {
   "cell_type": "code",
   "execution_count": 12,
   "id": "fae936ce-f860-4cbc-aff7-888357edbca5",
   "metadata": {},
   "outputs": [
    {
     "data": {
      "text/plain": [
       "(5333, 5)"
      ]
     },
     "execution_count": 12,
     "metadata": {},
     "output_type": "execute_result"
    }
   ],
   "source": [
    "X_train.shape"
   ]
  },
  {
   "cell_type": "code",
   "execution_count": 13,
   "id": "54ec9a2e-1b14-4055-88c0-8873d6f82ebc",
   "metadata": {},
   "outputs": [
    {
     "data": {
      "text/plain": [
       "(5333,)"
      ]
     },
     "execution_count": 13,
     "metadata": {},
     "output_type": "execute_result"
    }
   ],
   "source": [
    "y_train.shape"
   ]
  },
  {
   "cell_type": "markdown",
   "id": "1e2977a0-4048-4fdd-90a3-f160e9f43b2d",
   "metadata": {},
   "source": [
    "## 7 - Normalizando os Dados"
   ]
  },
  {
   "cell_type": "markdown",
   "id": "557a69f6-4555-4d3d-95a7-bac7b2f702de",
   "metadata": {},
   "source": [
    "#### O objetivo da normalização é mudar os valores das colunas numéricas no conjunto de dados para usar\n",
    "#### uma escala comum, sem distorcer as diferenças nos intervalos de valores nem perder informações."
   ]
  },
  {
   "cell_type": "code",
   "execution_count": 14,
   "id": "3d69b69e-2bd3-4712-8f15-193bf03be3a3",
   "metadata": {},
   "outputs": [],
   "source": [
    "mean = np.mean(X_train, axis=0)\n",
    "std = np.std(X_train, axis=0)\n",
    "X_train = (X_train - mean) / std\n",
    "\n",
    "mean = np.mean(X_test, axis=0)\n",
    "std = np.std(X_test, axis=0)\n",
    "X_test = (X_test - mean) / std\n",
    "\n",
    "mean = np.mean(df_test, axis=0)\n",
    "std = np.std(df_test, axis=0)\n",
    "df_test = (df_test - mean) / std"
   ]
  },
  {
   "cell_type": "markdown",
   "id": "72170d86-5a61-4578-9d82-1364e3471f51",
   "metadata": {},
   "source": [
    "## 8 - Balanceando os dados"
   ]
  },
  {
   "cell_type": "code",
   "execution_count": 15,
   "id": "b7de2b31-8977-42d1-9990-4a1b82ca90b5",
   "metadata": {},
   "outputs": [],
   "source": [
    "sm = SMOTE(random_state = 2)\n",
    "X_train, y_train = sm.fit_resample(X_train, y_train.ravel())"
   ]
  },
  {
   "cell_type": "code",
   "execution_count": 16,
   "id": "ca701119-2aec-4f30-b69a-fc465479a204",
   "metadata": {},
   "outputs": [
    {
     "data": {
      "text/plain": [
       "(30852, 5)"
      ]
     },
     "execution_count": 16,
     "metadata": {},
     "output_type": "execute_result"
    }
   ],
   "source": [
    "X_train.shape"
   ]
  },
  {
   "cell_type": "code",
   "execution_count": 17,
   "id": "fa271815-82d6-4a50-a835-417db8619f05",
   "metadata": {},
   "outputs": [
    {
     "data": {
      "text/plain": [
       "(30852,)"
      ]
     },
     "execution_count": 17,
     "metadata": {},
     "output_type": "execute_result"
    }
   ],
   "source": [
    "y_train.shape"
   ]
  },
  {
   "cell_type": "markdown",
   "id": "ffd35774-897a-4209-bc90-970763eb4506",
   "metadata": {},
   "source": [
    "## 9 - Modelagem"
   ]
  },
  {
   "cell_type": "markdown",
   "id": "db347372-a6ed-4365-8694-52a976ec40d4",
   "metadata": {},
   "source": [
    "### Random Forest"
   ]
  },
  {
   "cell_type": "markdown",
   "id": "b3ed8e6d-5d69-4d86-a33c-3468d542cb84",
   "metadata": {},
   "source": [
    "#### A Random Forest é um algoritmo de aprendizado de máquina que combina a saída de várias árvores \n",
    "#### de decisão para alcançar um único resultado."
   ]
  },
  {
   "cell_type": "code",
   "execution_count": 18,
   "id": "0313f87f-9a34-4924-aff3-5b6e87d8596e",
   "metadata": {},
   "outputs": [
    {
     "name": "stdout",
     "output_type": "stream",
     "text": [
      "Acuracia Media: 0.9932257458751881\n",
      "Desvio Padrao: 0.0010570835792178305\n",
      "[0.99157349 0.99416626 0.99416532 0.99384117 0.9923825 ]\n"
     ]
    }
   ],
   "source": [
    "model = RandomForestClassifier(random_state=42)\n",
    "scores = cross_val_score(estimator=model, X=X_train, y=y_train, cv=5, n_jobs=-1)\n",
    "\n",
    "print('Acuracia Media:', np.mean(scores))\n",
    "print('Desvio Padrao:', np.std(scores))\n",
    "print(scores)"
   ]
  },
  {
   "cell_type": "code",
   "execution_count": 19,
   "id": "e41f15ab-d331-497c-bef0-ea13f1954bce",
   "metadata": {},
   "outputs": [
    {
     "name": "stdout",
     "output_type": "stream",
     "text": [
      "Acc score: 0.9362818590704648\n"
     ]
    }
   ],
   "source": [
    "model.fit(X_train, y_train)\n",
    "pred = model.predict(X_test)\n",
    "pred_scores = model.predict_proba(X_test)[:, 1]\n",
    "print('Acc score:', accuracy_score(y_test, pred))"
   ]
  },
  {
   "cell_type": "markdown",
   "id": "75b3b340-8c90-4c65-b3a4-9c9f378f7a11",
   "metadata": {},
   "source": [
    "## 10 - Fazendo o predição com o modelo treinado"
   ]
  },
  {
   "cell_type": "code",
   "execution_count": 20,
   "id": "57cb2aac-607c-4cb8-bf64-bb2ec2414a51",
   "metadata": {},
   "outputs": [],
   "source": [
    "pred_test = [model.predict(df_test[df_test.index == i]) for i in range(len(df_test))]"
   ]
  },
  {
   "cell_type": "code",
   "execution_count": 21,
   "id": "986837c1-89b8-4fe9-9893-6ced9e108726",
   "metadata": {},
   "outputs": [
    {
     "data": {
      "text/plain": [
       "3076"
      ]
     },
     "execution_count": 21,
     "metadata": {},
     "output_type": "execute_result"
    }
   ],
   "source": [
    "pred_test.count('No Failure')"
   ]
  },
  {
   "cell_type": "code",
   "execution_count": 22,
   "id": "a54912b5-4935-4796-b0e4-3711bc5a0e07",
   "metadata": {},
   "outputs": [
    {
     "data": {
      "text/plain": [
       "66"
      ]
     },
     "execution_count": 22,
     "metadata": {},
     "output_type": "execute_result"
    }
   ],
   "source": [
    "pred_test.count('Tool Wear Failure')"
   ]
  },
  {
   "cell_type": "code",
   "execution_count": 23,
   "id": "744893c8-32bd-46a1-9b8d-9db0d9bdea9c",
   "metadata": {},
   "outputs": [
    {
     "data": {
      "text/plain": [
       "64"
      ]
     },
     "execution_count": 23,
     "metadata": {},
     "output_type": "execute_result"
    }
   ],
   "source": [
    "pred_test.count('Random Failures')"
   ]
  },
  {
   "cell_type": "code",
   "execution_count": 24,
   "id": "9f6862b1-2a10-4466-9166-b7a2ed61c714",
   "metadata": {},
   "outputs": [
    {
     "data": {
      "text/plain": [
       "38"
      ]
     },
     "execution_count": 24,
     "metadata": {},
     "output_type": "execute_result"
    }
   ],
   "source": [
    "pred_test.count('Power Failure')"
   ]
  },
  {
   "cell_type": "code",
   "execution_count": 25,
   "id": "54ffda85-8ecd-4777-9948-1b0566ab9c4d",
   "metadata": {},
   "outputs": [
    {
     "data": {
      "text/plain": [
       "44"
      ]
     },
     "execution_count": 25,
     "metadata": {},
     "output_type": "execute_result"
    }
   ],
   "source": [
    "pred_test.count('Overstrain Failure')"
   ]
  },
  {
   "cell_type": "code",
   "execution_count": 26,
   "id": "8114c9d7-e62c-4669-869e-f8636eebfc66",
   "metadata": {},
   "outputs": [
    {
     "data": {
      "text/plain": [
       "45"
      ]
     },
     "execution_count": 26,
     "metadata": {},
     "output_type": "execute_result"
    }
   ],
   "source": [
    "pred_test.count('Heat Dissipation Failure')"
   ]
  },
  {
   "cell_type": "markdown",
   "id": "eca96680-52d1-4ae1-a941-170ed246c546",
   "metadata": {},
   "source": [
    "## 11 - Contruindo o arquivo csv com os valores preditos"
   ]
  },
  {
   "cell_type": "code",
   "execution_count": 27,
   "id": "aa647fe5-79d6-441f-9773-5861771b3709",
   "metadata": {},
   "outputs": [],
   "source": [
    "df = pd.DataFrame(pred_test, columns=['predictedValues'])\n",
    "df['rowNumber'] = df.index\n",
    "df = df[['rowNumber', 'predictedValues']]\n",
    "df.to_csv('predicted.csv', index=False)"
   ]
  },
  {
   "cell_type": "code",
   "execution_count": null,
   "id": "b27a3a2b-c104-43e9-97f1-1d0131b898fb",
   "metadata": {},
   "outputs": [],
   "source": []
  }
 ],
 "metadata": {
  "kernelspec": {
   "display_name": "Python 3 (ipykernel)",
   "language": "python",
   "name": "python3"
  },
  "language_info": {
   "codemirror_mode": {
    "name": "ipython",
    "version": 3
   },
   "file_extension": ".py",
   "mimetype": "text/x-python",
   "name": "python",
   "nbconvert_exporter": "python",
   "pygments_lexer": "ipython3",
   "version": "3.9.12"
  }
 },
 "nbformat": 4,
 "nbformat_minor": 5
}
